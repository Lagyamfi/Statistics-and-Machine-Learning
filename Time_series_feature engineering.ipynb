{
 "cells": [
  {
   "cell_type": "markdown",
   "metadata": {},
   "source": [
    "# Messing around with Time Series"
   ]
  },
  {
   "cell_type": "markdown",
   "metadata": {},
   "source": [
    "### Converting SF crime event data to classical time series\n"
   ]
  },
  {
   "cell_type": "code",
   "execution_count": 1,
   "metadata": {},
   "outputs": [],
   "source": [
    "#import libraries\n",
    "\n",
    "import pandas as pd\n",
    "from datetime import datetime\n",
    "from matplotlib import pyplot as plt\n"
   ]
  },
  {
   "cell_type": "code",
   "execution_count": 2,
   "metadata": {},
   "outputs": [],
   "source": [
    "#import data\n",
    "file_loc =\"/Users/Lawrence/Documents/MACHINE_LEARNING/Exercises/Real_world_ML/sfpd_incident_all.csv\"\n",
    "df = pd.read_csv(file_loc)"
   ]
  },
  {
   "cell_type": "code",
   "execution_count": 3,
   "metadata": {},
   "outputs": [
    {
     "data": {
      "text/html": [
       "<div>\n",
       "<style scoped>\n",
       "    .dataframe tbody tr th:only-of-type {\n",
       "        vertical-align: middle;\n",
       "    }\n",
       "\n",
       "    .dataframe tbody tr th {\n",
       "        vertical-align: top;\n",
       "    }\n",
       "\n",
       "    .dataframe thead th {\n",
       "        text-align: right;\n",
       "    }\n",
       "</style>\n",
       "<table border=\"1\" class=\"dataframe\">\n",
       "  <thead>\n",
       "    <tr style=\"text-align: right;\">\n",
       "      <th></th>\n",
       "      <th>IncidntNum</th>\n",
       "      <th>Category</th>\n",
       "      <th>Date</th>\n",
       "      <th>Time</th>\n",
       "      <th>PdDistrict</th>\n",
       "    </tr>\n",
       "  </thead>\n",
       "  <tbody>\n",
       "    <tr>\n",
       "      <th>0</th>\n",
       "      <td>30203898</td>\n",
       "      <td>FRAUD</td>\n",
       "      <td>02/18/2003</td>\n",
       "      <td>16:30</td>\n",
       "      <td>NORTHERN</td>\n",
       "    </tr>\n",
       "    <tr>\n",
       "      <th>1</th>\n",
       "      <td>38261</td>\n",
       "      <td>WARRANTS</td>\n",
       "      <td>04/17/2003</td>\n",
       "      <td>22:45</td>\n",
       "      <td>NORTHERN</td>\n",
       "    </tr>\n",
       "    <tr>\n",
       "      <th>2</th>\n",
       "      <td>30203901</td>\n",
       "      <td>LARCENY/THEFT</td>\n",
       "      <td>02/18/2003</td>\n",
       "      <td>16:05</td>\n",
       "      <td>NORTHERN</td>\n",
       "    </tr>\n",
       "    <tr>\n",
       "      <th>3</th>\n",
       "      <td>30203923</td>\n",
       "      <td>DRUG/NARCOTIC</td>\n",
       "      <td>02/18/2003</td>\n",
       "      <td>17:00</td>\n",
       "      <td>BAYVIEW</td>\n",
       "    </tr>\n",
       "    <tr>\n",
       "      <th>4</th>\n",
       "      <td>30203923</td>\n",
       "      <td>OTHER OFFENSES</td>\n",
       "      <td>02/18/2003</td>\n",
       "      <td>17:00</td>\n",
       "      <td>BAYVIEW</td>\n",
       "    </tr>\n",
       "  </tbody>\n",
       "</table>\n",
       "</div>"
      ],
      "text/plain": [
       "   IncidntNum        Category        Date   Time PdDistrict\n",
       "0    30203898           FRAUD  02/18/2003  16:30   NORTHERN\n",
       "1       38261        WARRANTS  04/17/2003  22:45   NORTHERN\n",
       "2    30203901   LARCENY/THEFT  02/18/2003  16:05   NORTHERN\n",
       "3    30203923   DRUG/NARCOTIC  02/18/2003  17:00    BAYVIEW\n",
       "4    30203923  OTHER OFFENSES  02/18/2003  17:00    BAYVIEW"
      ]
     },
     "execution_count": 3,
     "metadata": {},
     "output_type": "execute_result"
    }
   ],
   "source": [
    "df.head()"
   ]
  },
  {
   "cell_type": "code",
   "execution_count": 4,
   "metadata": {},
   "outputs": [],
   "source": [
    "df['Month'] = df[\"Date\"].map(lambda x: datetime.strptime(\"/\".join(x.split(\"/\")[0::2]),\n",
    "                                             \"%m/%Y\"))\n",
    "df_ts = df.groupby('Month').aggregate(len)[\"IncidntNum\"]"
   ]
  },
  {
   "cell_type": "code",
   "execution_count": 28,
   "metadata": {},
   "outputs": [
    {
     "data": {
      "text/html": [
       "<div>\n",
       "<style scoped>\n",
       "    .dataframe tbody tr th:only-of-type {\n",
       "        vertical-align: middle;\n",
       "    }\n",
       "\n",
       "    .dataframe tbody tr th {\n",
       "        vertical-align: top;\n",
       "    }\n",
       "\n",
       "    .dataframe thead th {\n",
       "        text-align: right;\n",
       "    }\n",
       "</style>\n",
       "<table border=\"1\" class=\"dataframe\">\n",
       "  <thead>\n",
       "    <tr style=\"text-align: right;\">\n",
       "      <th></th>\n",
       "      <th>IncidntNum</th>\n",
       "      <th>Category</th>\n",
       "      <th>Date</th>\n",
       "      <th>Time</th>\n",
       "      <th>PdDistrict</th>\n",
       "      <th>Month</th>\n",
       "    </tr>\n",
       "  </thead>\n",
       "  <tbody>\n",
       "    <tr>\n",
       "      <th>0</th>\n",
       "      <td>30203898</td>\n",
       "      <td>FRAUD</td>\n",
       "      <td>02/18/2003</td>\n",
       "      <td>16:30</td>\n",
       "      <td>NORTHERN</td>\n",
       "      <td>2003-02-01</td>\n",
       "    </tr>\n",
       "    <tr>\n",
       "      <th>1</th>\n",
       "      <td>38261</td>\n",
       "      <td>WARRANTS</td>\n",
       "      <td>04/17/2003</td>\n",
       "      <td>22:45</td>\n",
       "      <td>NORTHERN</td>\n",
       "      <td>2003-04-01</td>\n",
       "    </tr>\n",
       "    <tr>\n",
       "      <th>2</th>\n",
       "      <td>30203901</td>\n",
       "      <td>LARCENY/THEFT</td>\n",
       "      <td>02/18/2003</td>\n",
       "      <td>16:05</td>\n",
       "      <td>NORTHERN</td>\n",
       "      <td>2003-02-01</td>\n",
       "    </tr>\n",
       "    <tr>\n",
       "      <th>3</th>\n",
       "      <td>30203923</td>\n",
       "      <td>DRUG/NARCOTIC</td>\n",
       "      <td>02/18/2003</td>\n",
       "      <td>17:00</td>\n",
       "      <td>BAYVIEW</td>\n",
       "      <td>2003-02-01</td>\n",
       "    </tr>\n",
       "    <tr>\n",
       "      <th>4</th>\n",
       "      <td>30203923</td>\n",
       "      <td>OTHER OFFENSES</td>\n",
       "      <td>02/18/2003</td>\n",
       "      <td>17:00</td>\n",
       "      <td>BAYVIEW</td>\n",
       "      <td>2003-02-01</td>\n",
       "    </tr>\n",
       "  </tbody>\n",
       "</table>\n",
       "</div>"
      ],
      "text/plain": [
       "   IncidntNum        Category        Date   Time PdDistrict      Month\n",
       "0    30203898           FRAUD  02/18/2003  16:30   NORTHERN 2003-02-01\n",
       "1       38261        WARRANTS  04/17/2003  22:45   NORTHERN 2003-04-01\n",
       "2    30203901   LARCENY/THEFT  02/18/2003  16:05   NORTHERN 2003-02-01\n",
       "3    30203923   DRUG/NARCOTIC  02/18/2003  17:00    BAYVIEW 2003-02-01\n",
       "4    30203923  OTHER OFFENSES  02/18/2003  17:00    BAYVIEW 2003-02-01"
      ]
     },
     "execution_count": 28,
     "metadata": {},
     "output_type": "execute_result"
    }
   ],
   "source": [
    "df.head()"
   ]
  },
  {
   "cell_type": "code",
   "execution_count": 5,
   "metadata": {},
   "outputs": [
    {
     "data": {
      "text/plain": [
       "Month\n",
       "2003-01-01    13482\n",
       "2003-02-01    12296\n",
       "2003-03-01    13385\n",
       "2003-04-01    13094\n",
       "2003-05-01    12950\n",
       "Name: IncidntNum, dtype: int64"
      ]
     },
     "execution_count": 5,
     "metadata": {},
     "output_type": "execute_result"
    }
   ],
   "source": [
    "df_ts.head()"
   ]
  },
  {
   "cell_type": "code",
   "execution_count": 29,
   "metadata": {},
   "outputs": [
    {
     "data": {
      "text/plain": [
       "Text(0, 0.5, 'Number of Crimes')"
      ]
     },
     "execution_count": 29,
     "metadata": {},
     "output_type": "execute_result"
    },
    {
     "data": {
      "image/png": "[encoded data removed]",
      "text/plain": [
       "<Figure size 432x288 with 1 Axes>"
      ]
     },
     "metadata": {
      "needs_background": "light"
     },
     "output_type": "display_data"
    }
   ],
   "source": [
    "plt.plot(df_ts.index, df_ts.values,'-k', lw=2)\n",
    "plt.xlabel(\"Month\")\n",
    "plt.ylabel(\"Number of Crimes\")"
   ]
  },
  {
   "cell_type": "markdown",
   "metadata": {},
   "source": [
    "### Windowed statistics and differences"
   ]
  },
  {
   "cell_type": "code",
   "execution_count": 38,
   "metadata": {},
   "outputs": [],
   "source": [
    "import numpy as np"
   ]
  },
  {
   "cell_type": "code",
   "execution_count": 55,
   "metadata": {},
   "outputs": [],
   "source": [
    "#using spring 2014 as window\n",
    "window1 = (datetime(2014, 3, 22), datetime(2014, 6, 21))\n",
    "\n",
    "idx_window1 = np.where(df_ts.index.map(lambda x: x>=window1[0] and x <= window1[1]))[0]\n",
    "#compute the windowed mean and standard deviation \n",
    "mean_window1 = np.mean(df_ts.values[idx_window1])\n",
    "std_window1 = np.std(df_ts.values[idx_window1])\n",
    "\n",
    "window2 = (datetime(2013,3,22), datetime(2013,6,21))\n",
    "# compute the windowed mean and std for spring 2013\n",
    "idx_window2 = np.where(df_ts.index.map(lambda x: x>= window2[0] and x <= window2[1]))[0]\n",
    "mean_window2 = np.mean(df_ts.values[idx_window2])\n",
    "std_window2 = np.std(df_ts.values[idx_window2])\n",
    "\n",
    "# compute the windowed difference in mean and standard deviation\n",
    "mean_wdiff = mean_window1 - mean_window2\n",
    "std_wdiff = std_window1 - std_window2"
   ]
  },
  {
   "cell_type": "markdown",
   "metadata": {},
   "source": [
    "### Compute Periodigrame and Features"
   ]
  },
  {
   "cell_type": "code",
   "execution_count": 58,
   "metadata": {},
   "outputs": [],
   "source": [
    "import scipy.signal"
   ]
  },
  {
   "cell_type": "code",
   "execution_count": 60,
   "metadata": {},
   "outputs": [
    {
     "data": {
      "image/png": "[encoded data removed]",
      "text/plain": [
       "<Figure size 432x288 with 1 Axes>"
      ]
     },
     "metadata": {
      "needs_background": "light"
     },
     "output_type": "display_data"
    }
   ],
   "source": [
    "#compute the periodigram\n",
    "f, psd = scipy.signal.periodogram(df_ts, detrend='linear')\n",
    "\n",
    "plt.plot(f, psd, '-ob')\n",
    "plt.xlabel('frequence [1/month]')\n",
    "plt.ylabel('Spectral Density')\n",
    "plt.show()\n",
    "\n",
    "# Features\n",
    "# period of highest peak for this data\n",
    "period_psd1 = 1./f[np.argmax(psd)]\n",
    "\n",
    "# sum of spectral density higher than 1/12 months\n",
    "sdens_gt_12m = np.sum(psd[f > 1./12])\n",
    "\n",
    "# ratio of spectral density higher than to less tha 1/12 months\n",
    "sdens_ratio_12m = float(sdens_gt_12m) / np.sum(psd[f <= 1./12])"
   ]
  },
  {
   "cell_type": "code",
   "execution_count": null,
   "metadata": {},
   "outputs": [],
   "source": []
  }
 ],
 "metadata": {
  "kernelspec": {
   "display_name": "Python 3",
   "language": "python",
   "name": "python3"
  },
  "language_info": {
   "codemirror_mode": {
    "name": "ipython",
    "version": 3
   },
   "file_extension": ".py",
   "mimetype": "text/x-python",
   "name": "python",
   "nbconvert_exporter": "python",
   "pygments_lexer": "ipython3",
   "version": "3.6.5"
  }
 },
 "nbformat": 4,
 "nbformat_minor": 2
}
